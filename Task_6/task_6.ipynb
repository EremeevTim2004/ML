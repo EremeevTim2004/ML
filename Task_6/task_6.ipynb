{
 "cells": [
  {
   "cell_type": "markdown",
   "metadata": {},
   "source": [
    "Imports"
   ]
  },
  {
   "cell_type": "code",
   "execution_count": null,
   "metadata": {},
   "outputs": [],
   "source": [
    "import pandas as pd\n",
    "from sklearn.model_selection import train_test_split\n",
    "from imblearn.over_sampling import SMOTE\n",
    "from imblearn.under_sampling import RandomUnderSampler\n",
    "from sklearn.ensemble import RandomForestClassifier\n",
    "from sklearn.metrics import classification_report, confusion_matrix, accuracy_score\n",
    "from sklearn.neighbors import KNeighborsClassifier\n",
    "from sklearn.tree import DecisionTreeClassifier\n",
    "from sklearn.ensemble import RandomForestClassifier\n",
    "from sklearn.linear_model import LogisticRegression\n",
    "from sklearn.svm import SVC\n",
    "from sklearn.metrics import accuracy_score, classification_report, confusion_matrix\n",
    "from collections import Counter"
   ]
  },
  {
   "cell_type": "markdown",
   "metadata": {},
   "source": [
    "1. набор данных не сбалансированный по целевому признаку и если обучать модели на этом наборе получится хорошее качество для класса 0 и  плохое качество для класса 1. Поэтому надо применять методы для балансировки данных: уменьшите размер мажоритарного (преобладающий) класса  и при необходимости сгенерируйте данные для миноритарного (маленького) класса, например, с помощью метода smote"
   ]
  },
  {
   "cell_type": "code",
   "execution_count": null,
   "metadata": {},
   "outputs": [],
   "source": [
    "# Загрузка данных\n",
    "data = pd.read_csv('your_file.csv')  # Укажите путь к вашему CSV файлу\n",
    "\n",
    "# Разделение данных на признаки и целевую переменную\n",
    "X = data.drop(columns=['target'])  # 'target' - имя целевой переменной\n",
    "y = data['target']\n",
    "\n",
    "# Разделение на обучающую и тестовую выборки\n",
    "X_train, X_test, y_train, y_test = train_test_split(X, y, test_size=0.3, random_state=42)\n",
    "\n",
    "# Проверка баланса классов до балансировки\n",
    "print(f'Распределение классов до балансировки: {Counter(y_train)}')\n",
    "\n",
    "# 1. Балансировка с помощью уменьшения размера мажоритарного класса (RandomUnderSampler)\n",
    "under_sampler = RandomUnderSampler(sampling_strategy='majority', random_state=42)\n",
    "X_train_under, y_train_under = under_sampler.fit_resample(X_train, y_train)\n",
    "\n",
    "# Проверка баланса классов после уменьшения мажоритарного класса\n",
    "print(f'Распределение классов после уменьшения мажоритарного класса: {Counter(y_train_under)}')\n",
    "\n",
    "# 2. Балансировка с помощью генерации данных для миноритарного класса (SMOTE)\n",
    "smote = SMOTE(sampling_strategy='minority', random_state=42)\n",
    "X_train_smote, y_train_smote = smote.fit_resample(X_train, y_train)\n",
    "\n",
    "# Проверка баланса классов после применения SMOTE\n",
    "print(f'Распределение классов после применения SMOTE: {Counter(y_train_smote)}')\n",
    "\n",
    "model = RandomForestClassifier(random_state=42)\n",
    "model.fit(X_train_smote, y_train_smote)\n",
    "\n",
    "# Оценка качества модели на тестовой выборке\n",
    "y_pred = model.predict(X_test)\n",
    "print(classification_report(y_test, y_pred))"
   ]
  },
  {
   "cell_type": "markdown",
   "metadata": {},
   "source": [
    "2. При анализе качества используйте не только метрики, но и матрицу погрешностей и отчет по метрикам качества классификации. Например, отчет по качеству\n",
    "\n",
    "Accuracy: 94.58375125376128\n",
    "Classification Report:               \n",
    "               precision    recall  f1-score   support\n",
    "\n",
    "           0       0.95      1.00      0.97       943\n",
    "           1       0.00      0.00      0.00        54\n",
    "\n",
    "    accuracy                           0.95       997\n",
    "   macro avg       0.47      0.50      0.49       997\n",
    "weighted avg       0.89      0.95      0.92       997\n",
    "говорит, что обучение проведено крайне плохо, т.к. f1-score по классу 1 равно 0"
   ]
  },
  {
   "cell_type": "code",
   "execution_count": null,
   "metadata": {},
   "outputs": [],
   "source": [
    "# Оценка качества модели на тестовой выборке\n",
    "y_pred = model.predict(X_test)\n",
    "\n",
    "# Матрица ошибок\n",
    "conf_matrix = confusion_matrix(y_test, y_pred)\n",
    "print(\"Матрица ошибок:\")\n",
    "print(conf_matrix)\n",
    "\n",
    "# Отчет по метрикам классификации\n",
    "class_report = classification_report(y_test, y_pred)\n",
    "print(\"Отчет по метрикам качества:\")\n",
    "print(class_report)\n",
    "\n",
    "# Точность модели (accuracy)\n",
    "accuracy = accuracy_score(y_test, y_pred)\n",
    "print(f\"Accuracy: {accuracy * 100:.2f}%\")"
   ]
  },
  {
   "cell_type": "markdown",
   "metadata": {},
   "source": [
    "3. У вас должно быть не менее 3-х различных методов МО для решения задачи. Примеры методов: KNN, деревья решений, случайный лес, логистическая регрессия, метод опорных векторов, градиентный бустинг"
   ]
  },
  {
   "cell_type": "code",
   "execution_count": null,
   "metadata": {},
   "outputs": [],
   "source": [
    "# Список моделей для обучения\n",
    "models = {\n",
    "    \"KNN\": KNeighborsClassifier(),\n",
    "    \"Decision Tree\": DecisionTreeClassifier(random_state=42),\n",
    "    \"Random Forest\": RandomForestClassifier(random_state=42),\n",
    "    \"Logistic Regression\": LogisticRegression(random_state=42),\n",
    "    \"SVM\": SVC(random_state=42)\n",
    "}\n",
    "\n",
    "# Функция для обучения и оценки модели\n",
    "def train_and_evaluate_model(model, X_train, y_train, X_test, y_test):\n",
    "    # Обучение модели\n",
    "    model.fit(X_train, y_train)\n",
    "    \n",
    "    # Предсказания на тестовых данных\n",
    "    y_pred = model.predict(X_test)\n",
    "    \n",
    "    # Оценка качества\n",
    "    accuracy = accuracy_score(y_test, y_pred)\n",
    "    conf_matrix = confusion_matrix(y_test, y_pred)\n",
    "    class_report = classification_report(y_test, y_pred)\n",
    "    \n",
    "    # Вывод результатов\n",
    "    print(f\"Результаты для модели {model.__class__.__name__}:\")\n",
    "    print(f\"Accuracy: {accuracy * 100:.2f}%\")\n",
    "    print(\"Матрица ошибок:\")\n",
    "    print(conf_matrix)\n",
    "    print(\"Отчет по метрикам качества:\")\n",
    "    print(class_report)\n",
    "    print(\"-\" * 50)\n",
    "\n",
    "# Обучение и оценка каждой модели\n",
    "for name, model in models.items():\n",
    "    train_and_evaluate_model(model, X_train, y_train, X_test, y_test)"
   ]
  }
 ],
 "metadata": {
  "language_info": {
   "name": "python"
  }
 },
 "nbformat": 4,
 "nbformat_minor": 2
}
