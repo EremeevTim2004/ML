{
 "cells": [
  {
   "cell_type": "markdown",
   "metadata": {},
   "source": [
    "Imports"
   ]
  },
  {
   "cell_type": "code",
   "execution_count": null,
   "metadata": {},
   "outputs": [],
   "source": []
  },
  {
   "cell_type": "markdown",
   "metadata": {},
   "source": [
    "1. набор данных не сбалансированный по целевому признаку и если обучать модели на этом наборе получится хорошее качество для класса 0 и  плохое качество для класса 1. Поэтому надо применять методы для балансировки данных: уменьшите размер мажоритарного (преобладающий) класса  и при необходимости сгенерируйте данные для миноритарного (маленького) класса, например, с помощью метода smote"
   ]
  },
  {
   "cell_type": "code",
   "execution_count": null,
   "metadata": {},
   "outputs": [],
   "source": []
  },
  {
   "cell_type": "markdown",
   "metadata": {},
   "source": [
    "2. При анализе качества используйте не только метрики, но и матрицу погрешностей и отчет по метрикам качества классификации. Например, отчет по качеству\n",
    "\n",
    "Accuracy: 94.58375125376128\n",
    "Classification Report:               \n",
    "               precision    recall  f1-score   support\n",
    "\n",
    "           0       0.95      1.00      0.97       943\n",
    "           1       0.00      0.00      0.00        54\n",
    "\n",
    "    accuracy                           0.95       997\n",
    "   macro avg       0.47      0.50      0.49       997\n",
    "weighted avg       0.89      0.95      0.92       997\n",
    "говорит, что обучение проведено крайне плохо, т.к. f1-score по классу 1 равно 0"
   ]
  },
  {
   "cell_type": "code",
   "execution_count": null,
   "metadata": {},
   "outputs": [],
   "source": []
  },
  {
   "cell_type": "markdown",
   "metadata": {},
   "source": [
    "3. У вас должно быть не менее 3-х различных методов МО для решения задачи. Примеры методов: KNN, деревья решений, случайный лес, логистическая регрессия, метод опорных векторов, градиентный бустинг"
   ]
  },
  {
   "cell_type": "code",
   "execution_count": null,
   "metadata": {},
   "outputs": [],
   "source": []
  }
 ],
 "metadata": {
  "language_info": {
   "name": "python"
  }
 },
 "nbformat": 4,
 "nbformat_minor": 2
}
