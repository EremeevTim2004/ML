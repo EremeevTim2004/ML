{
 "cells": [
  {
   "cell_type": "markdown",
   "metadata": {},
   "source": [
    "# Import"
   ]
  },
  {
   "cell_type": "code",
   "execution_count": null,
   "metadata": {},
   "outputs": [],
   "source": [
    "import numpy as np"
   ]
  },
  {
   "cell_type": "markdown",
   "metadata": {},
   "source": [
    "1. Сгенерировать матрицу размером 4 × 9, заполненную случайными целыми числами из отрезка [0,20] и вывести ее на на экран."
   ]
  },
  {
   "cell_type": "code",
   "execution_count": null,
   "metadata": {},
   "outputs": [],
   "source": [
    "matrix = np.random.randint(1, 20, (4, 9))"
   ]
  },
  {
   "cell_type": "markdown",
   "metadata": {},
   "source": [
    "2. Вывести на экран элемент с индексами [2, 6]."
   ]
  },
  {
   "cell_type": "code",
   "execution_count": null,
   "metadata": {},
   "outputs": [],
   "source": [
    "element_2_6 = matrix[2, 6]\n",
    "\n",
    "element_2_6"
   ]
  },
  {
   "cell_type": "markdown",
   "metadata": {},
   "source": [
    "3. Столбец под номером 3"
   ]
  },
  {
   "cell_type": "code",
   "execution_count": null,
   "metadata": {},
   "outputs": [],
   "source": [
    "column_3 = matrix[:, 2]\n",
    "\n",
    "column_3"
   ]
  },
  {
   "cell_type": "markdown",
   "metadata": {},
   "source": [
    "4. Каждый второй элемент третьей строки"
   ]
  },
  {
   "cell_type": "code",
   "execution_count": null,
   "metadata": {},
   "outputs": [],
   "source": [
    "every_second_element_row_3 = matrix[2, ::2]\n",
    "\n",
    "every_second_element_row_3"
   ]
  },
  {
   "cell_type": "markdown",
   "metadata": {},
   "source": [
    "5. Элементы последнего столбца в обратном порядке"
   ]
  },
  {
   "cell_type": "code",
   "execution_count": null,
   "metadata": {},
   "outputs": [],
   "source": [
    "last_column_reversed = matrix[::-1, -1]\n",
    "\n",
    "last_column_reversed"
   ]
  },
  {
   "cell_type": "markdown",
   "metadata": {},
   "source": [
    "6. Изменение формы матрицы с 4x9 на 6x6 (будет ошибка, так как для изменения формы должно быть 36 элементов)"
   ]
  },
  {
   "cell_type": "code",
   "execution_count": null,
   "metadata": {},
   "outputs": [],
   "source": [
    "reshaped_matrix = np.resize(matrix, (6, 6))\n",
    "\n",
    "reshaped_matrix"
   ]
  },
  {
   "cell_type": "markdown",
   "metadata": {},
   "source": [
    "7. Возведение каждого элемента матрицы в степень 2"
   ]
  },
  {
   "cell_type": "code",
   "execution_count": null,
   "metadata": {},
   "outputs": [],
   "source": [
    "squared_matrix = np.power(matrix, 2)\n",
    "\n",
    "squared_matrix"
   ]
  },
  {
   "cell_type": "markdown",
   "metadata": {},
   "source": [
    "8. Минимум на главной диагонали"
   ]
  },
  {
   "cell_type": "code",
   "execution_count": null,
   "metadata": {},
   "outputs": [],
   "source": [
    "min_main_diagonal = np.min(np.diag(matrix))\n",
    "\n",
    "min_main_diagonal"
   ]
  },
  {
   "cell_type": "markdown",
   "metadata": {},
   "source": [
    "9. Максимальный элемент в предпоследнем столбце"
   ]
  },
  {
   "cell_type": "code",
   "execution_count": null,
   "metadata": {},
   "outputs": [],
   "source": [
    "max_in_penultimate_column = np.max(matrix[:, -2])\n",
    "\n",
    "max_in_penultimate_column"
   ]
  },
  {
   "cell_type": "markdown",
   "metadata": {},
   "source": [
    "10. Проверка, образуют ли элементы сжатого до одной оси массива невозрастающую последовательность"
   ]
  },
  {
   "cell_type": "code",
   "execution_count": null,
   "metadata": {},
   "outputs": [],
   "source": [
    "flattened = matrix.flatten()\n",
    "is_nonincreasing = np.all(np.diff(flattened) <= 0)\n",
    "\n",
    "max_in_penultimate_column"
   ]
  },
  {
   "cell_type": "markdown",
   "metadata": {},
   "source": [
    "11. Произведение ненулевых элементов на побочной диагонали"
   ]
  },
  {
   "cell_type": "code",
   "execution_count": null,
   "metadata": {},
   "outputs": [],
   "source": [
    "secondary_diagonal = np.diag(np.fliplr(matrix))\n",
    "product_nonzero_secondary_diagonal = np.prod(secondary_diagonal[secondary_diagonal != 0])\n",
    "\n",
    "product_nonzero_secondary_diagonal"
   ]
  },
  {
   "cell_type": "markdown",
   "metadata": {},
   "source": [
    "12. Массив из случайных целых чисел из [-20, 20] размерностью 15"
   ]
  },
  {
   "cell_type": "code",
   "execution_count": null,
   "metadata": {},
   "outputs": [],
   "source": [
    "random_array = np.random.randint(-20, 21, 15)\n",
    "\n",
    "random_array"
   ]
  },
  {
   "cell_type": "markdown",
   "metadata": {},
   "source": [
    "13. Положительные элементы массива"
   ]
  },
  {
   "cell_type": "code",
   "execution_count": null,
   "metadata": {},
   "outputs": [],
   "source": [
    "positive_elements = random_array[random_array > 0]\n",
    "\n",
    "positive_elements"
   ]
  },
  {
   "cell_type": "markdown",
   "metadata": {},
   "source": [
    "14. Количество четных элементов в массиве"
   ]
  },
  {
   "cell_type": "code",
   "execution_count": null,
   "metadata": {},
   "outputs": [],
   "source": [
    "even_elements_count = np.sum(random_array % 2 == 0)\n",
    "\n",
    "even_elements_count"
   ]
  }
 ],
 "metadata": {
  "language_info": {
   "name": "python"
  }
 },
 "nbformat": 4,
 "nbformat_minor": 2
}
