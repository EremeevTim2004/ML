{
 "cells": [
  {
   "cell_type": "markdown",
   "metadata": {},
   "source": [
    "# Import"
   ]
  },
  {
   "cell_type": "code",
   "execution_count": 47,
   "metadata": {},
   "outputs": [],
   "source": [
    "import numpy as np"
   ]
  },
  {
   "cell_type": "markdown",
   "metadata": {},
   "source": [
    "1. Сгенерировать матрицу размером 4 × 9, заполненную случайными целыми числами из отрезка [0,20] и вывести ее на на экран."
   ]
  },
  {
   "cell_type": "code",
   "execution_count": 48,
   "metadata": {},
   "outputs": [
    {
     "data": {
      "text/plain": [
       "array([[ 3, 19,  3, 18,  9, 19, 18,  1,  7],\n",
       "       [ 3, 10, 16, 15, 11, 18, 16,  3, 14],\n",
       "       [17,  4, 14,  2, 12, 12,  7,  8,  1],\n",
       "       [ 3, 15, 17,  7,  7, 19,  3, 19, 14]])"
      ]
     },
     "execution_count": 48,
     "metadata": {},
     "output_type": "execute_result"
    }
   ],
   "source": [
    "matrix = np.random.randint(1, 20, (4, 9))\n",
    "\n",
    "matrix"
   ]
  },
  {
   "cell_type": "markdown",
   "metadata": {},
   "source": [
    "2. Вывести на экран элемент с индексами [2, 6]."
   ]
  },
  {
   "cell_type": "code",
   "execution_count": 49,
   "metadata": {},
   "outputs": [
    {
     "data": {
      "text/plain": [
       "7"
      ]
     },
     "execution_count": 49,
     "metadata": {},
     "output_type": "execute_result"
    }
   ],
   "source": [
    "element_2_6 = matrix[2, 6]\n",
    "\n",
    "element_2_6"
   ]
  },
  {
   "cell_type": "markdown",
   "metadata": {},
   "source": [
    "3. Столбец под номером 3"
   ]
  },
  {
   "cell_type": "code",
   "execution_count": 50,
   "metadata": {},
   "outputs": [
    {
     "data": {
      "text/plain": [
       "array([ 3, 16, 14, 17])"
      ]
     },
     "execution_count": 50,
     "metadata": {},
     "output_type": "execute_result"
    }
   ],
   "source": [
    "column_3 = matrix[:, 2]\n",
    "\n",
    "column_3"
   ]
  },
  {
   "cell_type": "markdown",
   "metadata": {},
   "source": [
    "4. Каждый второй элемент третьей строки"
   ]
  },
  {
   "cell_type": "code",
   "execution_count": 51,
   "metadata": {},
   "outputs": [
    {
     "data": {
      "text/plain": [
       "array([17, 14, 12,  7,  1])"
      ]
     },
     "execution_count": 51,
     "metadata": {},
     "output_type": "execute_result"
    }
   ],
   "source": [
    "every_second_element_row_3 = matrix[2, ::2]\n",
    "\n",
    "every_second_element_row_3"
   ]
  },
  {
   "cell_type": "markdown",
   "metadata": {},
   "source": [
    "5. Элементы последнего столбца в обратном порядке"
   ]
  },
  {
   "cell_type": "code",
   "execution_count": 52,
   "metadata": {},
   "outputs": [
    {
     "data": {
      "text/plain": [
       "array([14,  1, 14,  7])"
      ]
     },
     "execution_count": 52,
     "metadata": {},
     "output_type": "execute_result"
    }
   ],
   "source": [
    "last_column_reversed = matrix[::-1, -1]\n",
    "\n",
    "last_column_reversed"
   ]
  },
  {
   "cell_type": "markdown",
   "metadata": {},
   "source": [
    "6. Изменение формы матрицы с 4x9 на 6x6 (будет ошибка, так как для изменения формы должно быть 36 элементов)"
   ]
  },
  {
   "cell_type": "code",
   "execution_count": 53,
   "metadata": {},
   "outputs": [
    {
     "data": {
      "text/plain": [
       "array([[ 3, 19,  3, 18,  9, 19],\n",
       "       [18,  1,  7,  3, 10, 16],\n",
       "       [15, 11, 18, 16,  3, 14],\n",
       "       [17,  4, 14,  2, 12, 12],\n",
       "       [ 7,  8,  1,  3, 15, 17],\n",
       "       [ 7,  7, 19,  3, 19, 14]])"
      ]
     },
     "execution_count": 53,
     "metadata": {},
     "output_type": "execute_result"
    }
   ],
   "source": [
    "reshaped_matrix = np.resize(matrix, (6, 6))\n",
    "\n",
    "reshaped_matrix"
   ]
  },
  {
   "cell_type": "markdown",
   "metadata": {},
   "source": [
    "7. Возведение каждого элемента матрицы в степень 2"
   ]
  },
  {
   "cell_type": "code",
   "execution_count": 54,
   "metadata": {},
   "outputs": [
    {
     "data": {
      "text/plain": [
       "array([[  9, 361,   9, 324,  81, 361, 324,   1,  49],\n",
       "       [  9, 100, 256, 225, 121, 324, 256,   9, 196],\n",
       "       [289,  16, 196,   4, 144, 144,  49,  64,   1],\n",
       "       [  9, 225, 289,  49,  49, 361,   9, 361, 196]], dtype=int32)"
      ]
     },
     "execution_count": 54,
     "metadata": {},
     "output_type": "execute_result"
    }
   ],
   "source": [
    "squared_matrix = np.power(matrix, 2)\n",
    "\n",
    "squared_matrix"
   ]
  },
  {
   "cell_type": "markdown",
   "metadata": {},
   "source": [
    "8. Минимум на главной диагонали"
   ]
  },
  {
   "cell_type": "code",
   "execution_count": 55,
   "metadata": {},
   "outputs": [
    {
     "data": {
      "text/plain": [
       "3"
      ]
     },
     "execution_count": 55,
     "metadata": {},
     "output_type": "execute_result"
    }
   ],
   "source": [
    "min_main_diagonal = np.min(np.diag(matrix))\n",
    "\n",
    "min_main_diagonal"
   ]
  },
  {
   "cell_type": "markdown",
   "metadata": {},
   "source": [
    "9. Максимальный элемент в предпоследнем столбце"
   ]
  },
  {
   "cell_type": "code",
   "execution_count": 56,
   "metadata": {},
   "outputs": [
    {
     "data": {
      "text/plain": [
       "19"
      ]
     },
     "execution_count": 56,
     "metadata": {},
     "output_type": "execute_result"
    }
   ],
   "source": [
    "max_in_penultimate_column = np.max(matrix[:, -2])\n",
    "\n",
    "max_in_penultimate_column"
   ]
  },
  {
   "cell_type": "markdown",
   "metadata": {},
   "source": [
    "10. Проверка, образуют ли элементы сжатого до одной оси массива невозрастающую последовательность"
   ]
  },
  {
   "cell_type": "code",
   "execution_count": 57,
   "metadata": {},
   "outputs": [
    {
     "data": {
      "text/plain": [
       "19"
      ]
     },
     "execution_count": 57,
     "metadata": {},
     "output_type": "execute_result"
    }
   ],
   "source": [
    "flattened = matrix.flatten() # matrix.flatten() используется для преобразования двумерной матрицы (или многомерного массива) в одномерный массив.\n",
    "is_nonincreasing = np.all(np.diff(flattened) <= 0) #Для этого вычисляется разность между соседними элементами с помощью np.diff(flattened), и затем с помощью np.all() проверяется, что все разности меньше или равны нулю. Если это так, то последовательность считается невозрастающей.\n",
    "\n",
    "max_in_penultimate_column"
   ]
  },
  {
   "cell_type": "markdown",
   "metadata": {},
   "source": [
    "11. Произведение ненулевых элементов на побочной диагонали"
   ]
  },
  {
   "cell_type": "code",
   "execution_count": 58,
   "metadata": {},
   "outputs": [
    {
     "data": {
      "text/plain": [
       "2793"
      ]
     },
     "execution_count": 58,
     "metadata": {},
     "output_type": "execute_result"
    }
   ],
   "source": [
    "secondary_diagonal = np.diag(np.fliplr(matrix)) # np.fliplr(matrix) — переворачивает матрицу по горизонтали, np.diag() — извлекает элементы главной диагонали из матрицы. \n",
    "product_nonzero_secondary_diagonal = np.prod(secondary_diagonal[secondary_diagonal != 0]) # np.prod() вычисляет произведение элементов массива.\n",
    "\n",
    "product_nonzero_secondary_diagonal"
   ]
  },
  {
   "cell_type": "markdown",
   "metadata": {},
   "source": [
    "12. Массив из случайных целых чисел из [-20, 20] размерностью 15"
   ]
  },
  {
   "cell_type": "code",
   "execution_count": 59,
   "metadata": {},
   "outputs": [
    {
     "data": {
      "text/plain": [
       "array([ 19, -18, -17,  -5, -19,  10,  13,  -6, -20,   5,  -1,  13, -20,\n",
       "        -4,  12])"
      ]
     },
     "execution_count": 59,
     "metadata": {},
     "output_type": "execute_result"
    }
   ],
   "source": [
    "random_array = np.random.randint(-20, 21, 15)\n",
    "\n",
    "random_array"
   ]
  },
  {
   "cell_type": "markdown",
   "metadata": {},
   "source": [
    "13. Положительные элементы массива"
   ]
  },
  {
   "cell_type": "code",
   "execution_count": 60,
   "metadata": {},
   "outputs": [
    {
     "data": {
      "text/plain": [
       "array([19, 10, 13,  5, 13, 12])"
      ]
     },
     "execution_count": 60,
     "metadata": {},
     "output_type": "execute_result"
    }
   ],
   "source": [
    "positive_elements = random_array[random_array > 0]\n",
    "\n",
    "positive_elements"
   ]
  },
  {
   "cell_type": "markdown",
   "metadata": {},
   "source": [
    "14. Количество четных элементов в массиве"
   ]
  },
  {
   "cell_type": "code",
   "execution_count": 61,
   "metadata": {},
   "outputs": [
    {
     "data": {
      "text/plain": [
       "7"
      ]
     },
     "execution_count": 61,
     "metadata": {},
     "output_type": "execute_result"
    }
   ],
   "source": [
    "even_elements_count = np.sum(random_array % 2 == 0)\n",
    "\n",
    "even_elements_count"
   ]
  }
 ],
 "metadata": {
  "kernelspec": {
   "display_name": "Python 3",
   "language": "python",
   "name": "python3"
  },
  "language_info": {
   "codemirror_mode": {
    "name": "ipython",
    "version": 3
   },
   "file_extension": ".py",
   "mimetype": "text/x-python",
   "name": "python",
   "nbconvert_exporter": "python",
   "pygments_lexer": "ipython3",
   "version": "3.12.3"
  }
 },
 "nbformat": 4,
 "nbformat_minor": 2
}
