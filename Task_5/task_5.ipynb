{
 "cells": [
  {
   "cell_type": "markdown",
   "metadata": {},
   "source": [
    "Imports"
   ]
  },
  {
   "cell_type": "code",
   "execution_count": null,
   "metadata": {},
   "outputs": [],
   "source": [
    "import pandas as pd\n",
    "import numpy as np\n",
    "from sklearn.model_selection import train_test_split\n",
    "from sklearn.preprocessing import StandardScaler, LabelEncoder\n",
    "from sklearn.neighbors import KNeighborsClassifier\n",
    "from sklearn.metrics import accuracy_score\n",
    "from sklearn.model_selection import GridSearchCV"
   ]
  },
  {
   "cell_type": "markdown",
   "metadata": {},
   "source": [
    "1. Откройте файл с данными. Посмотрите где и в каком количестве есть пропуски. Строки, где пропуски по 2 и более признакам удалите (т.е. это строки под номерами 3 и 271)."
   ]
  },
  {
   "cell_type": "code",
   "execution_count": null,
   "metadata": {},
   "outputs": [],
   "source": [
    "# Load the uploaded dataset to examine its structure\n",
    "data = pd.read_csv('./penguins.csv', encoding='latin1')\n",
    "\n",
    "# Display general information about the data, including missing values\n",
    "data_info = data.info()\n",
    "missing_values = data.isnull().sum()\n",
    "\n",
    "data_info, missing_values"
   ]
  },
  {
   "cell_type": "markdown",
   "metadata": {},
   "source": [
    "2. Разделите весь набор данных на 2 части: часть без пропусков data и часть data_with_nan, где имеются пропуски в столбце \"sex\" "
   ]
  },
  {
   "cell_type": "code",
   "execution_count": null,
   "metadata": {},
   "outputs": [],
   "source": [
    "# Разделение данных на две части: одна без пропусков в столбце 'sex', другая с пропусками\n",
    "data_clean = data[data['sex'].notna()]  # Данные без пропусков в столбце 'sex'\n",
    "data_with_nan = data[data['sex'].isna()]  # Данные с пропусками в столбце 'sex'\n",
    "\n",
    "# Проверка размеров новых датафреймов\n",
    "data_clean_info = data_clean.info()\n",
    "data_with_nan_info = data_with_nan.info()\n",
    "\n",
    "data_clean_info, data_with_nan_info"
   ]
  },
  {
   "cell_type": "markdown",
   "metadata": {},
   "source": [
    "3. Решите задачу классификации пингвинов по полу методом KNN на наборе данных data:\n",
    "\n",
    "отделите целевой признак от нецелевых\n",
    "разделите данные на части для обучения train и тестирования test\n",
    "проведите кодирование категориальных признаков в train, а затем в test используя кодировщики, обученные на train\n",
    "проведите нормирование нецелевых признаков в train, а затем в test используя нормировщик, обученный на train\n",
    "проведите подбор гиперпараметров (количество соседей и метрика расстояния) в KNN\n",
    "обучите классификатор с наилучшими гиперпараметрами на train\n",
    "проверьте его качество на test"
   ]
  },
  {
   "cell_type": "code",
   "execution_count": null,
   "metadata": {},
   "outputs": [],
   "source": [
    "# 1. Отделяем целевой признак от нецелевых\n",
    "X = data_clean.drop(columns=['sex'])  # Все признаки, кроме 'sex'\n",
    "y = data_clean['sex']  # Целевой признак - 'sex'\n",
    "\n",
    "# 2. Разделяем данные на обучающую и тестовую выборки\n",
    "X_train, X_test, y_train, y_test = train_test_split(X, y, test_size=0.2, random_state=42)\n",
    "\n",
    "# 3. Кодируем категориальные признаки (например, 'island' и 'species') в X_train и X_test\n",
    "# Создаём кодировщик\n",
    "encoder = LabelEncoder()\n",
    "\n",
    "# Применяем кодирование для каждого категориального признака в train и test\n",
    "X_train_encoded = X_train.copy()\n",
    "X_test_encoded = X_test.copy()\n",
    "\n",
    "for column in X_train_encoded.select_dtypes(include=['object']).columns:\n",
    "    X_train_encoded[column] = encoder.fit_transform(X_train_encoded[column])\n",
    "    X_test_encoded[column] = encoder.transform(X_test_encoded[column])\n",
    "\n",
    "# 4. Нормируем данные (например, числовые признаки)\n",
    "scaler = StandardScaler()\n",
    "\n",
    "# Применяем нормализацию для числовых признаков в X_train и X_test\n",
    "X_train_scaled = X_train_encoded.copy()\n",
    "X_test_scaled = X_test_encoded.copy()\n",
    "\n",
    "X_train_scaled = scaler.fit_transform(X_train_scaled)\n",
    "X_test_scaled = scaler.transform(X_test_scaled)\n",
    "\n",
    "# 5. Подбор гиперпараметров для KNN с использованием GridSearchCV\n",
    "param_grid = {\n",
    "    'n_neighbors': [3, 5, 7, 9],\n",
    "    'metric': ['euclidean', 'manhattan', 'minkowski']\n",
    "}\n",
    "\n",
    "knn = KNeighborsClassifier()\n",
    "\n",
    "# Ищем наилучшие гиперпараметры\n",
    "grid_search = GridSearchCV(knn, param_grid, cv=5, scoring='accuracy')\n",
    "grid_search.fit(X_train_scaled, y_train)\n",
    "\n",
    "# Лучшие гиперпараметры\n",
    "best_params = grid_search.best_params_\n",
    "\n",
    "# 6. Обучаем классификатор с наилучшими гиперпараметрами на train\n",
    "best_knn = KNeighborsClassifier(n_neighbors=best_params['n_neighbors'], metric=best_params['metric'])\n",
    "best_knn.fit(X_train_scaled, y_train)\n",
    "\n",
    "# 7. Проверяем качество модели на тестовой выборке\n",
    "y_pred = best_knn.predict(X_test_scaled)\n",
    "\n",
    "# Оценка точности модели\n",
    "accuracy = accuracy_score(y_test, y_pred)\n",
    "\n",
    "accuracy"
   ]
  },
  {
   "cell_type": "markdown",
   "metadata": {},
   "source": [
    "4. Используя обученный классификатор заполните пропуски пола в  data_with_nan. Предварительно надо\n",
    "\n",
    " у data_with_nan  удалить столбец \"sex\"; \n",
    "провести кодирование нецелевых признаков обученным  на train кодировщиком; \n",
    "провести нормировку обученным на train нормализатором. \n",
    "После этого предскажите обученным классификатором значение целевого признака на данных их data_with_nan"
   ]
  },
  {
   "cell_type": "code",
   "execution_count": null,
   "metadata": {},
   "outputs": [],
   "source": [
    "# 1. Удаляем столбец 'sex' из data_with_nan\n",
    "data_with_nan_cleaned = data_with_nan.drop(columns=['sex'])\n",
    "\n",
    "# 2. Кодируем нецелевые признаки, используя обученный кодировщик\n",
    "data_with_nan_encoded = data_with_nan_cleaned.copy()\n",
    "\n",
    "for column in data_with_nan_encoded.select_dtypes(include=['object']).columns:\n",
    "    data_with_nan_encoded[column] = encoder.transform(data_with_nan_encoded[column])\n",
    "\n",
    "# 3. Нормируем данные, используя обученный нормализатор\n",
    "data_with_nan_scaled = scaler.transform(data_with_nan_encoded)\n",
    "\n",
    "# 4. Предсказываем значение целевого признака (пол) для пропусков\n",
    "y_pred_nan = best_knn.predict(data_with_nan_scaled)\n",
    "\n",
    "# 5. Заполняем пропуски в столбце 'sex' в data_with_nan предсказанными значениями\n",
    "data_with_nan['sex'] = y_pred_nan\n",
    "\n",
    "# Проверяем результаты\n",
    "data_with_nan.head()"
   ]
  },
  {
   "cell_type": "markdown",
   "metadata": {},
   "source": [
    "5. Объедините нецелевые столбцы из data_with_nan и предсказанные значения пола, выведите их. Сравните с заполнением, которое мы делали, ориентируясь на вес пингвина"
   ]
  },
  {
   "cell_type": "code",
   "execution_count": null,
   "metadata": {},
   "outputs": [],
   "source": [
    "# 1. Извлекаем нецелевые столбцы из data_with_nan\n",
    "non_target_columns = data_with_nan.drop(columns=['sex'])\n",
    "\n",
    "# 2. Объединяем нецелевые столбцы с предсказанными значениями пола\n",
    "data_with_predictions = non_target_columns.copy()\n",
    "data_with_predictions['predicted_sex'] = y_pred_nan\n",
    "\n",
    "# 3. Выводим первые несколько строк для проверки\n",
    "data_with_predictions.head()\n",
    "\n",
    "# 4. Сравнение с заполнением на основе веса пингвина (предполагаем, что столбец с весом называется 'body_mass_g')\n",
    "# Сортируем по весу и заполняем пропуски\n",
    "data_with_nan_sorted = data_with_nan.sort_values(by='body_mass_g', ascending=False)\n",
    "data_with_nan_sorted['sex_filled_by_mass'] = data_with_nan_sorted['sex'].fillna(method='bfill')\n",
    "\n",
    "# 5. Сравниваем результаты заполнения\n",
    "comparison = data_with_nan_sorted[['body_mass_g', 'sex_filled_by_mass', 'sex']].head(10)\n",
    "\n",
    "comparison\n"
   ]
  }
 ],
 "metadata": {
  "language_info": {
   "name": "python"
  }
 },
 "nbformat": 4,
 "nbformat_minor": 2
}
