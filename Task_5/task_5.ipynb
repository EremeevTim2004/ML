{
 "cells": [
  {
   "cell_type": "markdown",
   "metadata": {},
   "source": [
    "Imports"
   ]
  },
  {
   "cell_type": "code",
   "execution_count": null,
   "metadata": {},
   "outputs": [],
   "source": []
  },
  {
   "cell_type": "markdown",
   "metadata": {},
   "source": [
    "1. Откройте файл с данными. Посмотрите где и в каком количестве есть пропуски. Строки, где пропуски по 2 и более признакам удалите (т.е. это строки под номерами 3 и 271)."
   ]
  },
  {
   "cell_type": "code",
   "execution_count": null,
   "metadata": {},
   "outputs": [],
   "source": []
  },
  {
   "cell_type": "markdown",
   "metadata": {},
   "source": [
    "2. Разделите весь набор данных на 2 части: часть без пропусков data и часть data_with_nan, где имеются пропуски в столбце \"sex\" "
   ]
  },
  {
   "cell_type": "code",
   "execution_count": null,
   "metadata": {},
   "outputs": [],
   "source": []
  },
  {
   "cell_type": "markdown",
   "metadata": {},
   "source": [
    "3. Решите задачу классификации пингвинов по полу методом KNN на наборе данных data:\n",
    "\n",
    "отделите целевой признак от нецелевых\n",
    "разделите данные на части для обучения train и тестирования test\n",
    "проведите кодирование категориальных признаков в train, а затем в test используя кодировщики, обученные на train\n",
    "проведите нормирование нецелевых признаков в train, а затем в test используя нормировщик, обученный на train\n",
    "проведите подбор гиперпараметров (количество соседей и метрика расстояния) в KNN\n",
    "обучите классификатор с наилучшими гиперпараметрами на train\n",
    "проверьте его качество на test"
   ]
  },
  {
   "cell_type": "code",
   "execution_count": null,
   "metadata": {},
   "outputs": [],
   "source": []
  },
  {
   "cell_type": "markdown",
   "metadata": {},
   "source": [
    "4. Используя обученный классификатор заполните пропуски пола в  data_with_nan. Предварительно надо\n",
    "\n",
    " у data_with_nan  удалить столбец \"sex\"; \n",
    "провести кодирование нецелевых признаков обученным  на train кодировщиком; \n",
    "провести нормировку обученным на train нормализатором. \n",
    "После этого предскажите обученным классификатором значение целевого признака на данных их data_with_nan"
   ]
  },
  {
   "cell_type": "code",
   "execution_count": null,
   "metadata": {},
   "outputs": [],
   "source": []
  },
  {
   "cell_type": "markdown",
   "metadata": {},
   "source": [
    "5. Объедините нецелевые столбцы из data_with_nan и предсказанные значения пола, выведите их. Сравните с заполнением, которое мы делали, ориентируясь на вес пингвина"
   ]
  },
  {
   "cell_type": "code",
   "execution_count": null,
   "metadata": {},
   "outputs": [],
   "source": []
  }
 ],
 "metadata": {
  "language_info": {
   "name": "python"
  }
 },
 "nbformat": 4,
 "nbformat_minor": 2
}
