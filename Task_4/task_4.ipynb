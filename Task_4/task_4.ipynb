{
 "cells": [
  {
   "cell_type": "markdown",
   "metadata": {},
   "source": [
    "Include"
   ]
  },
  {
   "cell_type": "code",
   "execution_count": null,
   "metadata": {},
   "outputs": [],
   "source": [
    "import numpy as np\n",
    "import matplotlib.pyplot as plt\n",
    "import pandas as pd"
   ]
  },
  {
   "cell_type": "markdown",
   "metadata": {},
   "source": [
    "1. Считывание и первичный анализ данных"
   ]
  },
  {
   "cell_type": "code",
   "execution_count": null,
   "metadata": {},
   "outputs": [],
   "source": [
    "# Загрузка данных из файлов\n",
    "columns_df = pd.read_csv('./columns.csv')\n",
    "responses_df = pd.read_csv('./responses.csv')\n",
    "\n",
    "# Первичный анализ данных responses.csv\n",
    "responses_info = responses_df.info()\n",
    "responses_shape = responses_df.shape\n",
    "\n",
    "# Сохранение результата анализа\n",
    "initial_analysis_responses = f\"Информация о responses.csv:\\n{responses_info}\\n\\nРазмер responses.csv: {responses_shape}\"\n",
    "\n",
    "# Сохранение результатов в текстовый файл\n",
    "with open(\"/mnt/data/initial_analysis_responses.txt\", \"w\") as file:\n",
    "    file.write(initial_analysis_responses)\n",
    "\n",
    "initial_analysis_responses\n"
   ]
  },
  {
   "cell_type": "markdown",
   "metadata": {},
   "source": [
    "2. Отобрать из набора данных признаки Demographics (10 items), Music preferences (19 items), Movie preferences и далее работать только с выбранными признаками"
   ]
  },
  {
   "cell_type": "code",
   "execution_count": null,
   "metadata": {},
   "outputs": [],
   "source": []
  }
 ],
 "metadata": {
  "language_info": {
   "name": "python"
  }
 },
 "nbformat": 4,
 "nbformat_minor": 2
}
