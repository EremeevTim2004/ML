{
 "cells": [
  {
   "cell_type": "markdown",
   "metadata": {},
   "source": [
    "Imports"
   ]
  },
  {
   "cell_type": "code",
   "execution_count": 5,
   "metadata": {},
   "outputs": [],
   "source": [
    "import pandas as pd\n",
    "import numpy as np\n",
    "from sklearn.model_selection import train_test_split\n",
    "from sklearn.preprocessing import MinMaxScaler, StandardScaler\n",
    "from sklearn.linear_model import LinearRegression, Ridge, Lasso\n",
    "from sklearn.preprocessing import PolynomialFeatures\n",
    "from sklearn.pipeline import Pipeline\n",
    "from sklearn.metrics import mean_squared_error\n",
    "import re"
   ]
  },
  {
   "cell_type": "markdown",
   "metadata": {},
   "source": [
    "1. Загрузите набор данных и изучите его: объем выборки, количество столбцов, характеристики столбцов (признаков), имеются ли пропуски, имеются ли выбросы"
   ]
  },
  {
   "cell_type": "code",
   "execution_count": 8,
   "metadata": {},
   "outputs": [
    {
     "data": {
      "text/plain": [
       "{'shape': (1303, 13),\n",
       " 'columns': ['laptop_ID',\n",
       "  'Company',\n",
       "  'Product',\n",
       "  'TypeName',\n",
       "  'Inches',\n",
       "  'ScreenResolution',\n",
       "  'Cpu',\n",
       "  'Ram',\n",
       "  'Memory',\n",
       "  'Gpu',\n",
       "  'OpSys',\n",
       "  'Weight',\n",
       "  'Price_euros'],\n",
       " 'data_types': {'laptop_ID': dtype('int64'),\n",
       "  'Company': dtype('O'),\n",
       "  'Product': dtype('O'),\n",
       "  'TypeName': dtype('O'),\n",
       "  'Inches': dtype('float64'),\n",
       "  'ScreenResolution': dtype('O'),\n",
       "  'Cpu': dtype('O'),\n",
       "  'Ram': dtype('O'),\n",
       "  'Memory': dtype('O'),\n",
       "  'Gpu': dtype('O'),\n",
       "  'OpSys': dtype('O'),\n",
       "  'Weight': dtype('O'),\n",
       "  'Price_euros': dtype('float64')},\n",
       " 'missing_values': {'laptop_ID': 0,\n",
       "  'Company': 0,\n",
       "  'Product': 0,\n",
       "  'TypeName': 0,\n",
       "  'Inches': 0,\n",
       "  'ScreenResolution': 0,\n",
       "  'Cpu': 0,\n",
       "  'Ram': 0,\n",
       "  'Memory': 0,\n",
       "  'Gpu': 0,\n",
       "  'OpSys': 0,\n",
       "  'Weight': 0,\n",
       "  'Price_euros': 0},\n",
       " 'head':    laptop_ID Company      Product   TypeName  Inches  \\\n",
       " 0          1   Apple  MacBook Pro  Ultrabook    13.3   \n",
       " 1          2   Apple  Macbook Air  Ultrabook    13.3   \n",
       " 2          3      HP       250 G6   Notebook    15.6   \n",
       " 3          4   Apple  MacBook Pro  Ultrabook    15.4   \n",
       " 4          5   Apple  MacBook Pro  Ultrabook    13.3   \n",
       " \n",
       "                      ScreenResolution                         Cpu   Ram  \\\n",
       " 0  IPS Panel Retina Display 2560x1600        Intel Core i5 2.3GHz   8GB   \n",
       " 1                            1440x900        Intel Core i5 1.8GHz   8GB   \n",
       " 2                   Full HD 1920x1080  Intel Core i5 7200U 2.5GHz   8GB   \n",
       " 3  IPS Panel Retina Display 2880x1800        Intel Core i7 2.7GHz  16GB   \n",
       " 4  IPS Panel Retina Display 2560x1600        Intel Core i5 3.1GHz   8GB   \n",
       " \n",
       "                 Memory                           Gpu  OpSys  Weight  \\\n",
       " 0            128GB SSD  Intel Iris Plus Graphics 640  macOS  1.37kg   \n",
       " 1  128GB Flash Storage        Intel HD Graphics 6000  macOS  1.34kg   \n",
       " 2            256GB SSD         Intel HD Graphics 620  No OS  1.86kg   \n",
       " 3            512GB SSD            AMD Radeon Pro 455  macOS  1.83kg   \n",
       " 4            256GB SSD  Intel Iris Plus Graphics 650  macOS  1.37kg   \n",
       " \n",
       "    Price_euros  \n",
       " 0      1339.69  \n",
       " 1       898.94  \n",
       " 2       575.00  \n",
       " 3      2537.45  \n",
       " 4      1803.60  }"
      ]
     },
     "execution_count": 8,
     "metadata": {},
     "output_type": "execute_result"
    }
   ],
   "source": [
    "# Load the uploaded dataset to examine its structure\n",
    "data = pd.read_csv('./laptop_price (1).csv', encoding='latin1')\n",
    "\n",
    "# Display basic information about the dataset\n",
    "data_info = {\n",
    "    \"shape\": data.shape,\n",
    "    \"columns\": data.columns.tolist(),\n",
    "    \"data_types\": data.dtypes.to_dict(),\n",
    "    \"missing_values\": data.isnull().sum().to_dict(),\n",
    "    \"head\": data.head()\n",
    "}\n",
    "data_info"
   ]
  },
  {
   "cell_type": "markdown",
   "metadata": {},
   "source": [
    "2. Подумайте как преобразовать столбцы, чтобы привести все к числовому виду: где стоит категории заменить метками, где преобразовать столбцы. Для этого у всех столбцов типа object посмотрите уникальные значения. \n",
    "\n",
    "Столбцы типа данных object ['Company', 'Product', 'TypeName', 'ScreenResolution', 'Cpu', 'Ram', 'Memory', 'Gpu', 'OpSys', 'Weight']\n",
    "\n",
    "Рекомендации:\n",
    "\n",
    "- столбец 'Product' можно удалить, в нем  618 уникальных значений\n",
    "\n",
    "- для столбцов 'RAM'  и 'Weight'  оставить только цифры - объем памяти  и вес, причем в каждом столбце числа должны соответствовать одинаковым единицам Gb и kg\n",
    "\n",
    "- столбец Memory стоит преобразовать к нескольким столбцам, соответствующим Memory_SSD, Memory_HDD, Memory_Flash_Storage, Memory_Hybrid все объемы памяти перевести в GB и записать в соответствующие столбцы\n",
    "\n",
    "- решите что делать с остальными столбцами, обосновывая свои решения"
   ]
  },
  {
   "cell_type": "code",
   "execution_count": 9,
   "metadata": {},
   "outputs": [
    {
     "name": "stdout",
     "output_type": "stream",
     "text": [
      "\n",
      "Company (уникальных значений: 19):\n",
      "['Apple' 'HP' 'Acer' 'Asus' 'Dell' 'Lenovo' 'Chuwi' 'MSI' 'Microsoft'\n",
      " 'Toshiba']\n",
      "\n",
      "TypeName (уникальных значений: 6):\n",
      "['Ultrabook' 'Notebook' 'Netbook' 'Gaming' '2 in 1 Convertible'\n",
      " 'Workstation']\n",
      "\n",
      "ScreenResolution (уникальных значений: 40):\n",
      "['IPS Panel Retina Display 2560x1600' '1440x900' 'Full HD 1920x1080'\n",
      " 'IPS Panel Retina Display 2880x1800' '1366x768'\n",
      " 'IPS Panel Full HD 1920x1080' 'IPS Panel Retina Display 2304x1440'\n",
      " 'IPS Panel Full HD / Touchscreen 1920x1080'\n",
      " 'Full HD / Touchscreen 1920x1080' 'Touchscreen / Quad HD+ 3200x1800']\n",
      "\n",
      "Cpu (уникальных значений: 118):\n",
      "['Intel Core i5 2.3GHz' 'Intel Core i5 1.8GHz'\n",
      " 'Intel Core i5 7200U 2.5GHz' 'Intel Core i7 2.7GHz'\n",
      " 'Intel Core i5 3.1GHz' 'AMD A9-Series 9420 3GHz' 'Intel Core i7 2.2GHz'\n",
      " 'Intel Core i7 8550U 1.8GHz' 'Intel Core i5 8250U 1.6GHz'\n",
      " 'Intel Core i3 6006U 2GHz']\n",
      "\n",
      "Gpu (уникальных значений: 110):\n",
      "['Intel Iris Plus Graphics 640' 'Intel HD Graphics 6000'\n",
      " 'Intel HD Graphics 620' 'AMD Radeon Pro 455'\n",
      " 'Intel Iris Plus Graphics 650' 'AMD Radeon R5' 'Intel Iris Pro Graphics'\n",
      " 'Nvidia GeForce MX150' 'Intel UHD Graphics 620' 'Intel HD Graphics 520']\n",
      "\n",
      "OpSys (уникальных значений: 9):\n",
      "['macOS' 'No OS' 'Windows 10' 'Mac OS X' 'Linux' 'Android' 'Windows 10 S'\n",
      " 'Chrome OS' 'Windows 7']\n"
     ]
    }
   ],
   "source": [
    "# Удаление столбца 'Product'\n",
    "data = data.drop(columns=['Product'])\n",
    "\n",
    "# Преобразование 'Ram': удаление текста 'GB' и преобразование к числовому виду\n",
    "data['Ram'] = data['Ram'].str.replace('GB', '').astype(int)\n",
    "\n",
    "# Преобразование 'Weight': удаление текста 'kg' и преобразование к числовому виду\n",
    "data['Weight'] = data['Weight'].str.replace('kg', '').astype(float)\n",
    "\n",
    "# Преобразование 'Memory' в несколько столбцов\n",
    "def parse_memory(memory):\n",
    "    ssd, hdd, flash, hybrid = 0, 0, 0, 0\n",
    "    if isinstance(memory, str):\n",
    "        parts = memory.split('+')\n",
    "        for part in parts:\n",
    "            size = int(re.search(r'\\d+', part).group())\n",
    "            if 'SSD' in part:\n",
    "                ssd += size\n",
    "            elif 'HDD' in part:\n",
    "                hdd += size\n",
    "            elif 'Flash' in part:\n",
    "                flash += size\n",
    "            elif 'Hybrid' in part:\n",
    "                hybrid += size\n",
    "    return pd.Series([ssd, hdd, flash, hybrid])\n",
    "\n",
    "# Применение функции для разделения столбца 'Memory'\n",
    "data[['Memory_SSD', 'Memory_HDD', 'Memory_Flash_Storage', 'Memory_Hybrid']] = data['Memory'].apply(parse_memory)\n",
    "data = data.drop(columns=['Memory'])\n",
    "\n",
    "# Анализ уникальных значений в текстовых столбцах\n",
    "text_columns = ['Company', 'TypeName', 'ScreenResolution', 'Cpu', 'Gpu', 'OpSys']\n",
    "unique_values = {col: data[col].unique() for col in text_columns}\n",
    "\n",
    "# Вывод уникальных значений для анализа\n",
    "for col, values in unique_values.items():\n",
    "    print(f\"\\n{col} (уникальных значений: {len(values)}):\")\n",
    "    print(values[:10])  # Вывод первых 10 значений"
   ]
  },
  {
   "cell_type": "markdown",
   "metadata": {},
   "source": [
    "3. Столбец laptop_ID  не несет смысловой информации его удалите"
   ]
  },
  {
   "cell_type": "code",
   "execution_count": 11,
   "metadata": {},
   "outputs": [],
   "source": [
    "# Remove 'laptop_ID' and 'Product' columns\n",
    "data = data.drop(columns=['laptop_ID'])"
   ]
  },
  {
   "cell_type": "markdown",
   "metadata": {},
   "source": [
    "4. Сделайте три копии  датасета:  df, df_mm, df_ss. Следующие действия проделайте с каждой из копий:\n",
    "\n",
    "  Отделите целевой столбец от нецелевых\n",
    "\n",
    "  Разделите данные на обучающую и тестовую выборки"
   ]
  },
  {
   "cell_type": "code",
   "execution_count": 12,
   "metadata": {},
   "outputs": [
    {
     "ename": "NameError",
     "evalue": "name 'train_test_split' is not defined",
     "output_type": "error",
     "traceback": [
      "\u001b[1;31m---------------------------------------------------------------------------\u001b[0m",
      "\u001b[1;31mNameError\u001b[0m                                 Traceback (most recent call last)",
      "Cell \u001b[1;32mIn[12], line 12\u001b[0m\n\u001b[0;32m      9\u001b[0m y \u001b[38;5;241m=\u001b[39m df[target_column]\n\u001b[0;32m     11\u001b[0m \u001b[38;5;66;03m# Разделение на обучающую и тестовую выборки (70%/30%)\u001b[39;00m\n\u001b[1;32m---> 12\u001b[0m X_train, X_test, y_train, y_test \u001b[38;5;241m=\u001b[39m \u001b[43mtrain_test_split\u001b[49m(X, y, test_size\u001b[38;5;241m=\u001b[39m\u001b[38;5;241m0.3\u001b[39m, random_state\u001b[38;5;241m=\u001b[39m\u001b[38;5;241m42\u001b[39m)\n\u001b[0;32m     14\u001b[0m \u001b[38;5;66;03m# Применение Min-Max нормализации к df_mm\u001b[39;00m\n\u001b[0;32m     15\u001b[0m scaler_mm \u001b[38;5;241m=\u001b[39m MinMaxScaler()\n",
      "\u001b[1;31mNameError\u001b[0m: name 'train_test_split' is not defined"
     ]
    }
   ],
   "source": [
    "# Создание копий датасета\n",
    "df = data.copy()\n",
    "df_mm = data.copy()\n",
    "df_ss = data.copy()\n",
    "\n",
    "# Целевой столбец и признаки\n",
    "target_column = 'Price_euros'\n",
    "X = df.drop(columns=[target_column])\n",
    "y = df[target_column]\n",
    "\n",
    "# Разделение на обучающую и тестовую выборки (70%/30%)\n",
    "X_train, X_test, y_train, y_test = train_test_split(X, y, test_size=0.3, random_state=42)\n",
    "\n",
    "# Применение Min-Max нормализации к df_mm\n",
    "scaler_mm = MinMaxScaler()\n",
    "X_train_mm = scaler_mm.fit_transform(X_train)\n",
    "X_test_mm = scaler_mm.transform(X_test)\n",
    "\n",
    "# Применение стандартизации к df_ss\n",
    "scaler_ss = StandardScaler()\n",
    "X_train_ss = scaler_ss.fit_transform(X_train)\n",
    "X_test_ss = scaler_ss.transform(X_test)\n",
    "\n",
    "# Вывод размеров наборов данных\n",
    "print(\"Размеры обучающих и тестовых выборок:\")\n",
    "print(f\"Оригинальные данные: X_train: {X_train.shape}, X_test: {X_test.shape}\")\n",
    "print(f\"Min-Max нормализация: X_train_mm: {X_train_mm.shape}, X_test_mm: {X_test_mm.shape}\")\n",
    "print(f\"Стандартизация: X_train_ss: {X_train_ss.shape}, X_test_ss: {X_test_ss.shape}\")"
   ]
  },
  {
   "cell_type": "markdown",
   "metadata": {},
   "source": [
    "5. Первую копию оставьте без изменений. Для второй - примените мин-макс нормализацию, для третьей стандартизацию нецелевых признаков в тестовом и обучающем наборах."
   ]
  },
  {
   "cell_type": "code",
   "execution_count": null,
   "metadata": {},
   "outputs": [],
   "source": [
    "# Первая копия остается без изменений (df уже разделен на X_train и X_test)\n",
    "\n",
    "# Вторая копия: Min-Max нормализация\n",
    "scaler_mm = MinMaxScaler()\n",
    "X_train_mm = scaler_mm.fit_transform(X_train)\n",
    "X_test_mm = scaler_mm.transform(X_test)\n",
    "\n",
    "# Третья копия: стандартизация\n",
    "scaler_ss = StandardScaler()\n",
    "X_train_ss = scaler_ss.fit_transform(X_train)\n",
    "X_test_ss = scaler_ss.transform(X_test)\n",
    "\n",
    "# Вывод размеров и подтверждение выполнения\n",
    "print(\"Преобразования выполнены:\")\n",
    "print(f\"Min-Max нормализация: X_train_mm: {X_train_mm.shape}, X_test_mm: {X_test_mm.shape}\")\n",
    "print(f\"Стандартизация: X_train_ss: {X_train_ss.shape}, X_test_ss: {X_test_ss.shape}\")"
   ]
  },
  {
   "cell_type": "markdown",
   "metadata": {},
   "source": [
    "6. Примените линейную регрессию, lasso и ridge регрессии с подбором значения гиперпараметра alpha, полиномиальную регрессию со степенями 2 и 3 для каждого из наборов"
   ]
  },
  {
   "cell_type": "code",
   "execution_count": null,
   "metadata": {},
   "outputs": [],
   "source": [
    "# Модели для проверки\n",
    "models = {\n",
    "    \"LinearRegression\": LinearRegression(),\n",
    "    \"Ridge\": Ridge(),\n",
    "    \"Lasso\": Lasso()\n",
    "}\n",
    "\n",
    "# Значения alpha для Lasso и Ridge\n",
    "alphas = [0.01, 0.1, 1, 10, 100]\n",
    "\n",
    "# Функция для обучения и оценки моделей\n",
    "def evaluate_model(model, X_train, y_train, X_test, y_test):\n",
    "    model.fit(X_train, y_train)\n",
    "    predictions = model.predict(X_test)\n",
    "    return mean_squared_error(y_test, predictions)\n",
    "\n",
    "# Результаты для каждой модели\n",
    "results = {}\n",
    "\n",
    "# Линейная регрессия\n",
    "results[\"LinearRegression\"] = {\n",
    "    \"Original\": evaluate_model(models[\"LinearRegression\"], X_train, y_train, X_test, y_test),\n",
    "    \"MinMax\": evaluate_model(models[\"LinearRegression\"], X_train_mm, y_train, X_test_mm, y_test),\n",
    "    \"Standardized\": evaluate_model(models[\"LinearRegression\"], X_train_ss, y_train, X_test_ss, y_test)\n",
    "}\n",
    "\n",
    "# Ridge и Lasso регрессия с подбором alpha\n",
    "for model_name in [\"Ridge\", \"Lasso\"]:\n",
    "    results[model_name] = {}\n",
    "    for alpha in alphas:\n",
    "        model = models[model_name].set_params(alpha=alpha)\n",
    "        results[model_name][f\"Original_alpha={alpha}\"] = evaluate_model(model, X_train, y_train, X_test, y_test)\n",
    "        results[model_name][f\"MinMax_alpha={alpha}\"] = evaluate_model(model, X_train_mm, y_train, X_test_mm, y_test)\n",
    "        results[model_name][f\"Standardized_alpha={alpha}\"] = evaluate_model(model, X_train_ss, y_train, X_test_ss, y_test)\n",
    "\n",
    "# Полиномиальная регрессия степени 2 и 3\n",
    "for degree in [2, 3]:\n",
    "    poly = PolynomialFeatures(degree=degree)\n",
    "    poly_model = Pipeline([\n",
    "        (\"poly_features\", poly),\n",
    "        (\"linear_regression\", LinearRegression())\n",
    "    ])\n",
    "    results[f\"PolynomialDegree{degree}\"] = {\n",
    "        \"Original\": evaluate_model(poly_model, X_train, y_train, X_test, y_test),\n",
    "        \"MinMax\": evaluate_model(poly_model, X_train_mm, y_train, X_test_mm, y_test),\n",
    "        \"Standardized\": evaluate_model(poly_model, X_train_ss, y_train, X_test_ss, y_test)\n",
    "    }\n",
    "\n",
    "# Вывод результатов\n",
    "for model, res in results.items():\n",
    "    print(f\"\\n{model}:\")\n",
    "    for key, value in res.items():\n",
    "        print(f\"  {key}: MSE = {value:.4f}\")\n"
   ]
  },
  {
   "cell_type": "markdown",
   "metadata": {},
   "source": [
    "7. Сделайте вывод - какая предобработка лучше, какой алгоритм лучше, сравнивая качество на тестовом и обучающем наборах"
   ]
  },
  {
   "cell_type": "code",
   "execution_count": null,
   "metadata": {},
   "outputs": [],
   "source": [
    "# Анализ результатов\n",
    "# Входные данные: results (содержит ошибки MSE для всех моделей и наборов данных)\n",
    "\n",
    "# Функция для анализа лучших результатов\n",
    "def analyze_results(results):\n",
    "    summary = {}\n",
    "    for model, res in results.items():\n",
    "        best_key = min(res, key=res.get)  # Найти ключ с минимальным MSE\n",
    "        summary[model] = {\n",
    "            \"Best_Set\": best_key,\n",
    "            \"Best_MSE\": res[best_key]\n",
    "        }\n",
    "    return summary\n",
    "\n",
    "# Получение сводки лучших результатов\n",
    "best_results = analyze_results(results)\n",
    "\n",
    "# Вывод лучших моделей и предобработок\n",
    "print(\"\\nСводка лучших результатов:\")\n",
    "for model, info in best_results.items():\n",
    "    print(f\"{model}: Лучший набор данных - {info['Best_Set']}, MSE = {info['Best_MSE']:.4f}\")\n",
    "\n",
    "# Вывод заключений\n",
    "print(\"\\nЗаключение:\")\n",
    "print(\"1. Лучшая предобработка определяется минимальным значением MSE для каждой модели.\")\n",
    "print(\"2. Полиномиальная регрессия может давать улучшение на сложных зависимостях, но требует внимательной проверки на переобучение.\")\n",
    "print(\"3. Ridge и Lasso показывают преимущества при наличии регуляризации, особенно для высокоразмерных данных.\")\n",
    "print(\"4. Min-Max нормализация может быть предпочтительна для моделей, чувствительных к масштабу признаков.\")\n",
    "print(\"5. Стандартизация чаще лучше работает с регуляризованными методами, такими как Ridge и Lasso.\")\n"
   ]
  }
 ],
 "metadata": {
  "kernelspec": {
   "display_name": "Python 3",
   "language": "python",
   "name": "python3"
  },
  "language_info": {
   "codemirror_mode": {
    "name": "ipython",
    "version": 3
   },
   "file_extension": ".py",
   "mimetype": "text/x-python",
   "name": "python",
   "nbconvert_exporter": "python",
   "pygments_lexer": "ipython3",
   "version": "3.12.3"
  }
 },
 "nbformat": 4,
 "nbformat_minor": 2
}
