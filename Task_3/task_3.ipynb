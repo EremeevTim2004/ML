{
 "cells": [
  {
   "cell_type": "markdown",
   "metadata": {},
   "source": [
    "Imports"
   ]
  },
  {
   "cell_type": "code",
   "execution_count": 9,
   "metadata": {},
   "outputs": [],
   "source": [
    "import numpy as np\n",
    "import pandas as pd"
   ]
  },
  {
   "cell_type": "markdown",
   "metadata": {},
   "source": [
    "1. Откройте набор данных. Посмотрите на содержимое, выведя в одержимое нескольких строчек"
   ]
  },
  {
   "cell_type": "code",
   "execution_count": 10,
   "metadata": {},
   "outputs": [
    {
     "name": "stdout",
     "output_type": "stream",
     "text": [
      "Первые 5 строк данных:\n",
      "      User_ID  Age  Gender  Technology_Usage_Hours  Social_Media_Usage_Hours  \\\n",
      "0  USER-00001   23  Female                    6.57                      6.00   \n",
      "1  USER-00002   21    Male                    3.01                      2.57   \n",
      "2  USER-00003   51    Male                    3.04                      6.14   \n",
      "3  USER-00004   25  Female                    3.84                      4.48   \n",
      "4  USER-00005   53    Male                    1.20                      0.56   \n",
      "\n",
      "   Gaming_Hours  Screen_Time_Hours Mental_Health_Status Stress_Level  \\\n",
      "0          0.68              12.36                 Good          Low   \n",
      "1          3.74               7.61                 Poor         High   \n",
      "2          1.26               3.16                 Fair         High   \n",
      "3          2.59              13.08            Excellent       Medium   \n",
      "4          0.29              12.63                 Good          Low   \n",
      "\n",
      "   Sleep_Hours  Physical_Activity_Hours Support_Systems_Access  \\\n",
      "0         8.01                     6.71                     No   \n",
      "1         7.28                     5.88                    Yes   \n",
      "2         8.04                     9.81                     No   \n",
      "3         5.62                     5.28                    Yes   \n",
      "4         5.55                     4.00                     No   \n",
      "\n",
      "  Work_Environment_Impact Online_Support_Usage  \n",
      "0                Negative                  Yes  \n",
      "1                Positive                   No  \n",
      "2                Negative                   No  \n",
      "3                Negative                  Yes  \n",
      "4                Positive                  Yes  \n"
     ]
    }
   ],
   "source": [
    "# Загрузка набора данных (вставьте свой путь к файлу)\n",
    "df = pd.read_csv('mental_health_and_technology_usage_2024.csv')\n",
    "\n",
    "# Вывод первых 5 строк\n",
    "print(\"Первые 5 строк данных:\")\n",
    "print(df.head())"
   ]
  },
  {
   "cell_type": "markdown",
   "metadata": {},
   "source": [
    "2. Посмотрите с помощью методов Pandas на количество строчек и столбцов, информацию о столбцах (info)"
   ]
  },
  {
   "cell_type": "code",
   "execution_count": 11,
   "metadata": {},
   "outputs": [
    {
     "name": "stdout",
     "output_type": "stream",
     "text": [
      "\n",
      "Количество строк и столбцов: (10000, 14)\n",
      "\n",
      "Информация о столбцах:\n",
      "<class 'pandas.core.frame.DataFrame'>\n",
      "RangeIndex: 10000 entries, 0 to 9999\n",
      "Data columns (total 14 columns):\n",
      " #   Column                    Non-Null Count  Dtype  \n",
      "---  ------                    --------------  -----  \n",
      " 0   User_ID                   10000 non-null  object \n",
      " 1   Age                       10000 non-null  int64  \n",
      " 2   Gender                    10000 non-null  object \n",
      " 3   Technology_Usage_Hours    10000 non-null  float64\n",
      " 4   Social_Media_Usage_Hours  10000 non-null  float64\n",
      " 5   Gaming_Hours              10000 non-null  float64\n",
      " 6   Screen_Time_Hours         10000 non-null  float64\n",
      " 7   Mental_Health_Status      10000 non-null  object \n",
      " 8   Stress_Level              10000 non-null  object \n",
      " 9   Sleep_Hours               10000 non-null  float64\n",
      " 10  Physical_Activity_Hours   10000 non-null  float64\n",
      " 11  Support_Systems_Access    10000 non-null  object \n",
      " 12  Work_Environment_Impact   10000 non-null  object \n",
      " 13  Online_Support_Usage      10000 non-null  object \n",
      "dtypes: float64(6), int64(1), object(7)\n",
      "memory usage: 1.1+ MB\n"
     ]
    }
   ],
   "source": [
    "print(\"\\nКоличество строк и столбцов:\", df.shape)\n",
    "print(\"\\nИнформация о столбцах:\")\n",
    "df.info()"
   ]
  },
  {
   "cell_type": "markdown",
   "metadata": {},
   "source": [
    "3. Выведите название столбцов и сопоставьте им русские названия в текстовой ячейке"
   ]
  },
  {
   "cell_type": "code",
   "execution_count": 12,
   "metadata": {},
   "outputs": [
    {
     "name": "stdout",
     "output_type": "stream",
     "text": [
      "\n",
      "Названия столбцов и их переводы на русский:\n",
      "Age -> Возраст\n",
      "Gender -> Пол\n",
      "Country -> Страна\n",
      "Gaming_Hours -> Часы игры\n",
      "Screen_Time_Hours -> Время у экрана (часов)\n",
      "Sleep_Hours -> Часы сна\n",
      "Mental_Health_Status -> Психологическое состояние\n",
      "Mental_Health_Duration -> Продолжительность психологического состояния\n",
      "Tech_Addiction_Score -> Оценка зависимости от технологий\n"
     ]
    }
   ],
   "source": [
    "columns_translation = {\n",
    "    'Age': 'Возраст',\n",
    "    'Gender': 'Пол',\n",
    "    'Country': 'Страна',\n",
    "    'Gaming_Hours': 'Часы игры',\n",
    "    'Screen_Time_Hours': 'Время у экрана (часов)',\n",
    "    'Sleep_Hours': 'Часы сна',\n",
    "    'Mental_Health_Status': 'Психологическое состояние',\n",
    "    'Mental_Health_Duration': 'Продолжительность психологического состояния',\n",
    "    'Tech_Addiction_Score': 'Оценка зависимости от технологий'\n",
    "}\n",
    "print(\"\\nНазвания столбцов и их переводы на русский:\")\n",
    "for col, translation in columns_translation.items():\n",
    "    print(f\"{col} -> {translation}\")"
   ]
  },
  {
   "cell_type": "markdown",
   "metadata": {},
   "source": [
    "4. Посмотрите описание (describe) числовых столбцов. Сделайте вывод  о наборе по минимальному и максимальному значениям, по среднему значению, по значению квартилей"
   ]
  },
  {
   "cell_type": "code",
   "execution_count": 13,
   "metadata": {},
   "outputs": [
    {
     "name": "stdout",
     "output_type": "stream",
     "text": [
      "\n",
      "Описание числовых столбцов:\n",
      "                Age  Technology_Usage_Hours  Social_Media_Usage_Hours  \\\n",
      "count  10000.000000            10000.000000              10000.000000   \n",
      "mean      41.518600                6.474341                  3.972321   \n",
      "std       13.920217                3.169022                  2.313707   \n",
      "min       18.000000                1.000000                  0.000000   \n",
      "25%       29.000000                3.760000                  1.980000   \n",
      "50%       42.000000                6.425000                  3.950000   \n",
      "75%       54.000000                9.212500                  5.990000   \n",
      "max       65.000000               12.000000                  8.000000   \n",
      "\n",
      "       Gaming_Hours  Screen_Time_Hours   Sleep_Hours  Physical_Activity_Hours  \n",
      "count  10000.000000       10000.000000  10000.000000             10000.000000  \n",
      "mean       2.515598           7.975765      6.500724                 5.003860  \n",
      "std        1.446748           4.042608      1.450933                 2.905044  \n",
      "min        0.000000           1.000000      4.000000                 0.000000  \n",
      "25%        1.260000           4.520000      5.260000                 2.490000  \n",
      "50%        2.520000           7.900000      6.500000                 4.990000  \n",
      "75%        3.790000          11.500000      7.760000                 7.540000  \n",
      "max        5.000000          15.000000      9.000000                10.000000  \n"
     ]
    }
   ],
   "source": [
    "print(\"\\nОписание числовых столбцов:\")\n",
    "print(df.describe())"
   ]
  },
  {
   "cell_type": "markdown",
   "metadata": {},
   "source": [
    "5. Посмотрите описание (describe) числовых столбцов. Сделайте вывод  о наборе по минимальному и максимальному значениям, по среднему значению, по значению квартилей"
   ]
  },
  {
   "cell_type": "code",
   "execution_count": 14,
   "metadata": {},
   "outputs": [
    {
     "name": "stdout",
     "output_type": "stream",
     "text": [
      "\n",
      "Описание категориальных столбцов:\n",
      "       Gender Mental_Health_Status Support_Systems_Access  \\\n",
      "count   10000                10000                  10000   \n",
      "unique      3                    4                      2   \n",
      "top     Other            Excellent                     No   \n",
      "freq     3364                 2518                   5006   \n",
      "\n",
      "       Work_Environment_Impact Online_Support_Usage  \n",
      "count                    10000                10000  \n",
      "unique                       3                    2  \n",
      "top                   Negative                   No  \n",
      "freq                      3378                 5013  \n"
     ]
    }
   ],
   "source": [
    "categorical_columns = ['Gender', 'Mental_Health_Status', 'Support_Systems_Access', 'Work_Environment_Impact', 'Online_Support_Usage']\n",
    "print(\"\\nОписание категориальных столбцов:\")\n",
    "print(df[categorical_columns].describe())"
   ]
  },
  {
   "cell_type": "markdown",
   "metadata": {},
   "source": [
    "6. Для категориальных признаков посмотрите на уникальные значения этих признаков."
   ]
  },
  {
   "cell_type": "code",
   "execution_count": 15,
   "metadata": {},
   "outputs": [
    {
     "name": "stdout",
     "output_type": "stream",
     "text": [
      "\n",
      "Уникальные значения категориальных признаков:\n",
      "Gender: ['Female' 'Male' 'Other']\n",
      "Mental_Health_Status: ['Good' 'Poor' 'Fair' 'Excellent']\n",
      "Support_Systems_Access: ['No' 'Yes']\n",
      "Work_Environment_Impact: ['Negative' 'Positive' 'Neutral']\n",
      "Online_Support_Usage: ['Yes' 'No']\n"
     ]
    }
   ],
   "source": [
    "print(\"\\nУникальные значения категориальных признаков:\")\n",
    "for column in categorical_columns:\n",
    "    print(f\"{column}: {df[column].unique()}\")"
   ]
  },
  {
   "cell_type": "markdown",
   "metadata": {},
   "source": [
    "7. Попытайтесь выявить зависимость зависимости между психологическим состоянием ( Mental_Health_Status) и такими признаками как Gaming_Hours, Screen_Time_Hours, Sleep_Hours. Используйте группировку (по Mental_Health_Status - обязательно, по остальным признакам по желанию) и агрегацию данных"
   ]
  },
  {
   "cell_type": "code",
   "execution_count": 16,
   "metadata": {},
   "outputs": [
    {
     "name": "stdout",
     "output_type": "stream",
     "text": [
      "\n",
      "Зависимость психологического состояния от других признаков:\n",
      "                      Gaming_Hours  Screen_Time_Hours  Sleep_Hours\n",
      "Mental_Health_Status                                              \n",
      "Excellent                 2.542133           7.949023     6.480175\n",
      "Fair                      2.494956           7.920964     6.509289\n",
      "Good                      2.503596           8.087707     6.497145\n",
      "Poor                      2.521510           7.944783     6.516582\n"
     ]
    }
   ],
   "source": [
    "grouped_data = df.groupby('Mental_Health_Status')[['Gaming_Hours', 'Screen_Time_Hours', 'Sleep_Hours']].mean()\n",
    "print(\"\\nЗависимость психологического состояния от других признаков:\")\n",
    "print(grouped_data)"
   ]
  }
 ],
 "metadata": {
  "kernelspec": {
   "display_name": "Python 3",
   "language": "python",
   "name": "python3"
  },
  "language_info": {
   "codemirror_mode": {
    "name": "ipython",
    "version": 3
   },
   "file_extension": ".py",
   "mimetype": "text/x-python",
   "name": "python",
   "nbconvert_exporter": "python",
   "pygments_lexer": "ipython3",
   "version": "3.12.3"
  }
 },
 "nbformat": 4,
 "nbformat_minor": 2
}
