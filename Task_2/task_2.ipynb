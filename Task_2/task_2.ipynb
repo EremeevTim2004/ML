{
 "cells": [
  {
   "cell_type": "markdown",
   "metadata": {},
   "source": [
    "# Includes"
   ]
  },
  {
   "cell_type": "code",
   "execution_count": null,
   "metadata": {},
   "outputs": [],
   "source": [
    "import numpy as np\n",
    "import pandas as pd"
   ]
  },
  {
   "cell_type": "markdown",
   "metadata": {},
   "source": [
    "1. Данные в файле 'wind-data-<year>.csv' имеют следующий формат:\n",
    "\n",
    "   <year>, 1, 1, 15.04, 14.96, 13.17,  9.29, 13.96, 9.87, 13.67, 10.25, 10.83, 12.58, 18.50, 15.04\n",
    "\n",
    "   <year>, 1, 2, 14.71, 16.88, 10.83,  6.50, 12.62, 7.67, 11.50, 10.04,  9.79,  9.67, 17.54, 13.83\n",
    "\n",
    "   <year>, 1, 3, 18.50, 16.88, 12.33, 10.13, 11.17, 6.17, 11.25,  8.04,  8.50,  7.67, 12.75, 12.71\n",
    "\n",
    "   Первые три колонки - это год, месяц и день. Остальные 12 колонок - скорость   ветра, измеренная в узлах, в 12 реперных точках, разбросанных по всей Ирландии.\n",
    "\n",
    "   В файле присутствуют комментарии, описывающие датасет. Комментарии начинаются  с символа '%'. При загрузке датасета очистите его от всех комментариев. \n",
    "\n",
    "   Используйте функцию 'np.loadtxt' для загрузки датасета в numpy массив."
   ]
  },
  {
   "cell_type": "code",
   "execution_count": null,
   "metadata": {},
   "outputs": [],
   "source": [
    "# Load the dataset from the provided file\n",
    "file_path = './wind-data-1965.csv'\n",
    "\n",
    "# Load the data, removing lines starting with '%'\n",
    "df = np.loadtxt(fname=file_path, comments='%', delimiter=',')\n",
    "\n",
    "# Check the first few rows to confirm successful loading\n",
    "df[:5]"
   ]
  },
  {
   "cell_type": "markdown",
   "metadata": {},
   "source": [
    "2. Все измерения были сделаны и записаны вручную, поэтому у нескольких записей  отсутствуют ожидаемые значения. Всего существует два типа ошибок заполнения: \n",
    "\n",
    "   * При заполнении не был указан год, тогда значение в первой колонке будет  равно 0. Заполните отсутствующие значения года самостоятельно.\n",
    "\n",
    "   * Были дни, когда не удавалось снять значение со всех реперных точек.  В этом случае в местах отсутствия измерений стоит NaN.  Заполните недостающие значения средним значением в этой точке. \n",
    "\n",
    " (Подсказка: используйте функции np.nanmean для подсчета среднего, игнорируя np.nan, и np.isnan для создания маски выборки)\n",
    "\n",
    "     В этом пункте разрешается использования цикла for."
   ]
  },
  {
   "cell_type": "code",
   "execution_count": null,
   "metadata": {},
   "outputs": [],
   "source": [
    "# Step 1: Replace zeros in the year column with the correct year (65 corresponds to 1965).\n",
    "df[:, 0] = np.where(df[:, 0] == 0, 1965, df[:, 0])\n",
    "\n",
    "# Step 2: Fill missing values (NaN) with the mean for each reference point\n",
    "# Calculate the mean for each column (ignoring NaNs)\n",
    "means = np.nanmean(df[:, 3:], axis=0)\n",
    "\n",
    "# Replace NaN values with the corresponding column mean\n",
    "nan_mask = np.isnan(df[:, 3:])\n",
    "df[:, 3:][nan_mask] = np.take(means, np.where(nan_mask)[1])\n",
    "\n",
    "# Check the data after filling missing values\n",
    "df[:5]"
   ]
  },
  {
   "cell_type": "markdown",
   "metadata": {},
   "source": [
    "3. Посчитайте минимальное, максимальное и среднее значение скорости ветра, а также среднее квадратическое отклонение скорости ветра, по всем реперным точкам за все дни (каждое значение считается относительно всего сета). Выведите полученные 4 значения."
   ]
  },
  {
   "cell_type": "code",
   "execution_count": null,
   "metadata": {},
   "outputs": [],
   "source": [
    "min_values = np.min(df[:, 3:], axis=0)\n",
    "max_values = np.max(df[:, 3:], axis=0)\n",
    "mean_values = np.mean(df[:, 3:], axis=0)\n",
    "std_devs = np.std(df[:, 3:], axis=0)"
   ]
  },
  {
   "cell_type": "markdown",
   "metadata": {},
   "source": [
    "4. Посчитайте минимальное, максимальное и среднее значение скорости ветра, а также среднее квадратическое отклонение скорости ветра, каждой реперной точки по всем дням. Для каждой точки должен получиться свой набор значений. Выведите полученные значения."
   ]
  },
  {
   "cell_type": "code",
   "execution_count": null,
   "metadata": {},
   "outputs": [],
   "source": [
    "results = np.column_stack((min_values, max_values, mean_values, std_devs))\n",
    "print(results)"
   ]
  },
  {
   "cell_type": "markdown",
   "metadata": {},
   "source": [
    "5. Посчитайте минимальное, максимальное и среднее значение скорости ветра, а также среднее квадратическое отклонение скорости ветра, всех реперных точек для каждого дня. Должен получиться свой набор значений для каждого дня.  \n",
    "\n",
    "Добавьте в датасет новую колонку с максимальными значениями по дням.    \n",
    "\n",
    "(Подсказка: используйте функции np.hstack и np.reshape)\n",
    "\n",
    "Выведите полученные значения"
   ]
  },
  {
   "cell_type": "code",
   "execution_count": null,
   "metadata": {},
   "outputs": [],
   "source": [
    "min_values_by_day = np.min(df[:, 3:], axis=1)\n",
    "max_values_by_day = np.max(df[:, 3:], axis=1)\n",
    "mean_values_by_day = np.mean(df[:, 3:], axis=1)\n",
    "std_devs_by_day = np.std(df[:, 3:], axis=1)\n",
    "\n",
    "# Добавляем колонку с максимальными значениями по дням\n",
    "new_data = np.hstack((df, max_values_by_day.reshape(-1, 1)))\n",
    "\n",
    "# Выводим минимальные, максимальные, средние значения и стандартные отклонения по дням\n",
    "results_by_day = np.column_stack((min_values_by_day, max_values_by_day, mean_values_by_day, std_devs_by_day))\n",
    "print(\"Минимум, Максимум, Среднее, СКО для каждого дня:\")\n",
    "print(results_by_day)\n",
    "\n",
    "# Выводим новую таблицу с добавленной колонкой максимальных значений\n",
    "print(\"Данные с добавленной колонкой максимальных значений по дням:\")\n",
    "print(new_data)"
   ]
  },
  {
   "cell_type": "markdown",
   "metadata": {},
   "source": [
    "6. Для каждого дня найдите точку с наибольшем значением скорости ветра. Выведите массив найденных номеров реперных точек (массив целых чисел)."
   ]
  },
  {
   "cell_type": "code",
   "execution_count": null,
   "metadata": {},
   "outputs": [],
   "source": [
    "# Найдите индекс реперной точки с наибольшей скоростью ветра для каждого дня\n",
    "max_wind_point_indices = np.argmax(df[:, 3:], axis=1) + 1  # Переход к 1-based индексации\n",
    "\n",
    "# Вывод массива индексов точек с максимальной скоростью ветра\n",
    "print(max_wind_point_indices)"
   ]
  },
  {
   "cell_type": "markdown",
   "metadata": {},
   "source": [
    "7. Найдите год, месяц и день, который была зафиксирована самая большая  скорость ветра. Выведите найденную дату."
   ]
  },
  {
   "cell_type": "code",
   "execution_count": null,
   "metadata": {},
   "outputs": [],
   "source": [
    "wind_speeds = df[:, 3:]\n",
    "\n",
    "max_speed_idx = np.nanargmax(wind_speeds)\n",
    "year_idx = max_speed_idx // (df.shape[0] * 12)\n",
    "rest_idx = max_speed_idx % (df.shape[0] * 12)\n",
    "day_idx = rest_idx // 12\n",
    "point_idx = rest_idx % 12\n",
    "\n",
    "date_with_max_speed = df[max_speed_idx // 12, :3]\n",
    "print(f\"Year: {int(date_with_max_speed[0])}, Month: {int(date_with_max_speed[1])}, Day: {int(date_with_max_speed[2])}\")"
   ]
  },
  {
   "cell_type": "markdown",
   "metadata": {},
   "source": [
    "8. Найдите среднюю скорость в январе для каждой реперной точки.  Выведите полученные значения."
   ]
  },
  {
   "cell_type": "code",
   "execution_count": null,
   "metadata": {},
   "outputs": [],
   "source": [
    "january_speeds = df[df[:, 1] == 1, 3:]\n",
    "mean_january_speeds = np.nanmean(january_speeds, axis=0)\n",
    "print(mean_january_speeds)"
   ]
  },
  {
   "cell_type": "markdown",
   "metadata": {},
   "source": [
    "9. Сохраните получившийся датасет в csv файл. Проследите, чтобы целые числа  были сохранены в целочисленном формате, без нулей в дробной части.  Каждое число с плавающей точкой сохраните с точностью ровно в 4 знака   после точки"
   ]
  },
  {
   "cell_type": "code",
   "execution_count": null,
   "metadata": {},
   "outputs": [],
   "source": [
    "df_with_max_df = pd.DataFrame(results_by_day)\n",
    "df_with_max_df.to_csv('cleaned_wind_data.csv', index=False, float_format='%.4f')"
   ]
  },
  {
   "cell_type": "markdown",
   "metadata": {},
   "source": [
    "10. Посчитайте среднюю скорость ветра для каждого месяца в датасете.  Выведите полученные значения."
   ]
  },
  {
   "cell_type": "code",
   "execution_count": null,
   "metadata": {},
   "outputs": [],
   "source": [
    "months = df[:, 1].astype(int)\n",
    "unique_months = np.unique(months)\n",
    "\n",
    "monthly_means = []\n",
    "for month in unique_months:\n",
    "    month_speeds = df[months == month, 3:]\n",
    "    mean_month_speed = np.nanmean(month_speeds)\n",
    "    monthly_means.append(mean_month_speed)\n",
    "\n",
    "print(monthly_means)"
   ]
  }
 ],
 "metadata": {
  "kernelspec": {
   "display_name": "Python 3",
   "language": "python",
   "name": "python3"
  },
  "language_info": {
   "codemirror_mode": {
    "name": "ipython",
    "version": 3
   },
   "file_extension": ".py",
   "mimetype": "text/x-python",
   "name": "python",
   "nbconvert_exporter": "python",
   "pygments_lexer": "ipython3",
   "version": "3.12.3"
  }
 },
 "nbformat": 4,
 "nbformat_minor": 2
}
